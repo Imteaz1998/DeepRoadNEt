{
  "nbformat": 4,
  "nbformat_minor": 0,
  "metadata": {
    "colab": {
      "provenance": []
    },
    "kernelspec": {
      "name": "python3",
      "display_name": "Python 3"
    },
    "language_info": {
      "name": "python"
    }
  },
  "cells": [
    {
      "cell_type": "code",
      "source": [
        "import os\n",
        "import sys\n",
        "import numpy as np\n",
        "import re\n",
        "import cv2 as op\n",
        "import matplotlib.pyplot as plt\n",
        "import tensorflow as tf\n",
        "from tqdm import tqdm\n",
        "from os import listdir\n",
        "import pandas as pd\n",
        "from keras.layers import Dense, Dropout, Input, add, Conv2D, BatchNormalization, MaxPooling2D, Conv2DTranspose,Activation, Concatenate\n",
        "from tensorflow import keras\n",
        "from time import time\n",
        "from tqdm import tqdm\n",
        "from keras import backend as K\n",
        "\n",
        "# plt.style.use('seaborn')\n",
        "tf.__version__"
      ],
      "metadata": {
        "id": "SlGT43N2piAO"
      },
      "execution_count": null,
      "outputs": []
    },
    {
      "cell_type": "code",
      "source": [
        "from tensorflow.keras import callbacks, optimizers\n",
        "from tensorflow.keras.models import Model, load_model, model_from_json\n",
        "from tensorflow.keras.preprocessing import image\n",
        "from tensorflow.keras.layers import Input, Conv2D, MaxPooling2D, Activation, BatchNormalization, Conv2DTranspose, Concatenate\n",
        " \n",
        "from tensorflow.keras.callbacks import ModelCheckpoint\n",
        "import tensorflow as tf\n",
        "from keras import backend as K\n",
        " \n",
        "import numpy as np\n",
        "import pandas as pd\n",
        "import cv2\n",
        "import os\n",
        "import matplotlib.pyplot as plt\n",
        "%matplotlib inline\n",
        "from tensorflow import keras\n",
        "K.set_image_data_format('channels_last')\n",
        "\n",
        "from keras.models import Model, Sequential\n",
        "from keras.layers import Activation, Dense, BatchNormalization, Dropout, Conv2D, Conv2DTranspose, MaxPooling2D, UpSampling2D, Input, Reshape\n",
        "from keras.callbacks import EarlyStopping\n",
        "from keras import backend as K\n",
        "from tensorflow.keras.optimizers import Adam, SGD\n",
        "import tensorflow as tf\n",
        "import numpy as np\n",
        "import pandas as pd\n",
        "import glob\n",
        "import PIL\n",
        "from PIL import Image\n",
        "import matplotlib.pyplot as plt\n",
        "import cv2\n",
        "%matplotlib inline\n",
        "\n",
        "from keras.preprocessing.image import ImageDataGenerator\n",
        "from sklearn.model_selection import train_test_split\n",
        "from warnings import filterwarnings\n",
        "\n",
        "filterwarnings('ignore')\n",
        "plt.rcParams[\"axes.grid\"] = False\n",
        "np.random.seed(101)"
      ],
      "metadata": {
        "id": "j8N0_W6VplBX"
      },
      "execution_count": null,
      "outputs": []
    },
    {
      "cell_type": "code",
      "execution_count": null,
      "metadata": {
        "id": "reCxEvhuo5uc"
      },
      "outputs": [],
      "source": [
        "model.evaluate(test_dataset)"
      ]
    },
    {
      "cell_type": "code",
      "source": [
        "color = [66, 255, 73]\n",
        "color = [i/255.0 for i in color]\n",
        "\n",
        "def placeMaskOnImg(img, mask):\n",
        "    np.place(img[:, :, :], mask[:, :, :] >= 0.5, color)\n",
        "    return img"
      ],
      "metadata": {
        "id": "8AwyBTmypoMt"
      },
      "execution_count": null,
      "outputs": []
    },
    {
      "cell_type": "code",
      "source": [
        "def make_pred_good(pred):\n",
        "#     pred = pred.numpy()\n",
        "    pred = pred[0][:, :, :]\n",
        "    pred = np.repeat(pred, 3, 2)\n",
        "    return pred\n",
        "\n",
        "n = 1\n",
        "test_img = sorted(listdir('../input/massachusetts-roads-dataset/tiff/test/'))[n:n+10]\n",
        "test_mask = sorted(listdir('../input/massachusetts-roads-dataset/tiff/test_labels/'))[n:n+10]\n",
        "\n",
        "for img, mask in zip(test_img, test_mask):\n",
        "    plt.figure(figsize = (12,10))\n",
        "    \n",
        "    img = plt.imread('../input/massachusetts-roads-dataset/tiff/test/'+img)\n",
        "    mask = plt.imread('../input/massachusetts-roads-dataset/tiff/test_labels/'+mask)\n",
        "    mask = modify_mask(op.resize(mask, IMG_SIZE))\n",
        "    img = (img/255.0)\n",
        "    transformed = transform(image=img, mask=mask)\n",
        "    img = transformed['image']\n",
        "    mask = transformed['mask']\n",
        "\n",
        "    img = np.expand_dims(op.resize(img, (256,256)), 0)\n",
        "    img = img.astype(np.float32)\n",
        "    \n",
        "    pred = make_pred_good(model(img))\n",
        "    mask = make_pred_good(np.expand_dims(mask, axis = 0))\n",
        "    \n",
        "    plt.subplot(1,3,1)\n",
        "    plt.title(\"Satellite\")\n",
        "    plt.imshow(img[0])\n",
        "    plt.subplot(1,3,2)\n",
        "    plt.title('Actual mask')\n",
        "    plt.imshow(mask)\n",
        "    plt.subplot(1,3,3)\n",
        "    plt.title('Predicted mask')\n",
        "    pred = placeMaskOnImg(img[0], pred)\n",
        "    plt.imshow(pred)\n",
        "    \n",
        "    plt.show()"
      ],
      "metadata": {
        "id": "EmEYYpGwqD2H"
      },
      "execution_count": null,
      "outputs": []
    }
  ]
}