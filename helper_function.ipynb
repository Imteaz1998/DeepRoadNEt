{
  "nbformat": 4,
  "nbformat_minor": 0,
  "metadata": {
    "colab": {
      "provenance": []
    },
    "kernelspec": {
      "name": "python3",
      "display_name": "Python 3"
    },
    "language_info": {
      "name": "python"
    }
  },
  "cells": [
    {
      "cell_type": "code",
      "execution_count": null,
      "metadata": {
        "id": "h-gPJVlvoHk4"
      },
      "outputs": [],
      "source": [
        "# Making some essential imports as Usual\n",
        "import os\n",
        "import sys\n",
        "import numpy as np\n",
        "import re\n",
        "import cv2 as op\n",
        "import matplotlib.pyplot as plt\n",
        "import tensorflow as tf\n",
        "from tqdm import tqdm\n",
        "from os import listdir\n",
        "import pandas as pd\n",
        "from keras.layers import Dense, Dropout, Input, add, Conv2D, BatchNormalization, MaxPooling2D, Conv2DTranspose,Activation, Concatenate\n",
        "from tensorflow import keras\n",
        "from time import time\n",
        "from tqdm import tqdm\n",
        "from keras import backend as K\n",
        "\n",
        "# plt.style.use('seaborn')\n",
        "tf.__version__"
      ]
    },
    {
      "cell_type": "code",
      "source": [
        "## IOU in pure numpy\n",
        "def numpy_iou(y_true, y_pred, n_class=2):\n",
        "    def iou(y_true, y_pred, n_class):\n",
        "        # IOU = TP/(TP+FN+FP)\n",
        "        IOU = []\n",
        "        for c in range(n_class):\n",
        "            TP = np.sum((y_true == c) & (y_pred == c))\n",
        "            FP = np.sum((y_true != c) & (y_pred == c))\n",
        "            FN = np.sum((y_true == c) & (y_pred != c))\n",
        "\n",
        "            n = TP\n",
        "            d = float(TP + FP + FN + 1e-12)\n",
        "\n",
        "            iou = np.divide(n, d)\n",
        "            IOU.append(iou)\n",
        "\n",
        "        return np.mean(IOU)\n",
        "\n",
        "    batch = y_true.shape[0]\n",
        "    y_true = np.reshape(y_true, (batch, -1))\n",
        "    y_pred = np.reshape(y_pred, (batch, -1))\n",
        "\n",
        "    score = []\n",
        "    for idx in range(batch):\n",
        "        iou_value = iou(y_true[idx], y_pred[idx], n_class)\n",
        "        score.append(iou_value)\n",
        "    return np.mean(score)\n",
        "\n",
        "\n",
        "## Calculating IOU across a range of thresholds, then we will mean all the\n",
        "## values of IOU's.\n",
        "## this function can be used as keras metrics\n",
        "def numpy_mean_iou(y_true, y_pred):\n",
        "    prec = []\n",
        "    for t in np.arange(0.5, 1.0, 0.5):\n",
        "        y_pred_ = tf.cast(y_pred > t, tf.int32)\n",
        "        score = tf.numpy_function(numpy_iou, [y_true, y_pred_], tf.float64)\n",
        "        prec.append(score)\n",
        "    return K.mean(K.stack(prec), axis=0)\n",
        "\n",
        "def tf_mean_iou(y_true, y_pred):\n",
        "    prec = []\n",
        "    for t in np.arange(0.5, 1.0, 0.5):\n",
        "        y_pred_ = tf.cast(y_pred > t, tf.int32)\n",
        "        score, up_opt = tf.metrics.mean_iou(y_true, y_pred_, 2)\n",
        "        K.get_session().run(tf.local_variables_initializer())\n",
        "        prec.append(score)\n",
        "    val = K.mean(K.stack(prec), axis=0)\n",
        "    return [val, up_opt]"
      ],
      "metadata": {
        "id": "xFqgAZI7oWXm"
      },
      "execution_count": null,
      "outputs": []
    },
    {
      "cell_type": "code",
      "source": [
        "def dice_coe(y_true,y_pred, loss_type='jaccard', smooth=1.):\n",
        "\n",
        "    y_true_f = tf.reshape(y_true,[-1])\n",
        "    y_pred_f = tf.reshape(y_pred,[-1])\n",
        "\n",
        "    intersection = tf.reduce_sum(y_true_f * y_pred_f)\n",
        "\n",
        "    if loss_type == 'jaccard':\n",
        "        union = tf.reduce_sum(tf.square(y_pred_f)) + tf.reduce_sum(tf.square(y_true_f))\n",
        "\n",
        "    elif loss_type == 'sorensen':\n",
        "        union = tf.reduce_sum(y_pred_f) + tf.reduce_sum(y_true_f)\n",
        "\n",
        "    else:\n",
        "        raise ValueError(\"Unknown `loss_type`: %s\" % loss_type)\n",
        "\n",
        "    return (2. * intersection + smooth) / (union + smooth)\n",
        "\n",
        "def dice_loss(y_true,y_pred, loss_type='jaccard', smooth=1.):\n",
        "\n",
        "    y_true_f = tf.cast(tf.reshape(y_true,[-1]),tf.float32)\n",
        "    y_pred_f =tf.cast(tf.reshape(y_pred,[-1]),tf.float32)\n",
        "\n",
        "    intersection = tf.reduce_sum(y_true_f * y_pred_f)\n",
        "\n",
        "    if loss_type == 'jaccard':\n",
        "        union = tf.reduce_sum(tf.square(y_pred_f)) + tf.reduce_sum(tf.square(y_true_f))\n",
        "\n",
        "    elif loss_type == 'sorensen':\n",
        "        union = tf.reduce_sum(y_pred_f) + tf.reduce_sum(y_true_f)\n",
        "\n",
        "    else:\n",
        "        raise ValueError(\"Unknown `loss_type`: %s\" % loss_type)\n",
        "\n",
        "    return (1-(2. * intersection + smooth) / (union + smooth))"
      ],
      "metadata": {
        "id": "bW3lKggQoaKW"
      },
      "execution_count": null,
      "outputs": []
    },
    {
      "cell_type": "code",
      "source": [
        "def accuracy(y_true, y_pred):\n",
        "    '''Calculates the mean accuracy rate across all predictions for binary\n",
        "    classification problems.\n",
        "    '''\n",
        "    return K.mean(K.equal(y_true, K.round(y_pred)))"
      ],
      "metadata": {
        "id": "T6vJpY6Woch2"
      },
      "execution_count": null,
      "outputs": []
    },
    {
      "cell_type": "code",
      "source": [
        "def weighted_BCE_loss(y_true, y_pred, positive_weight=5):\n",
        "    # y_true: (None,None,None,None)     y_pred: (None,512,512,1)\n",
        "    y_pred = K.clip(y_pred, min_value=1e-12, max_value=1 - 1e-12)\n",
        "    weights = K.ones_like(y_pred)  # (None,512,512,1)\n",
        "    weights = tf.where(y_pred < 0.5, positive_weight * weights, weights)\n",
        "    # weights[y_pred<0.5]=positive_weight\n",
        "    out = keras.losses.binary_crossentropy(y_true, y_pred)  # (None,512,512)\n",
        "    out = K.expand_dims(out, axis=-1) * weights  # (None,512,512,1)* (None,512,512,1)\n",
        "    return K.mean(out)"
      ],
      "metadata": {
        "id": "tDTImWqBohQt"
      },
      "execution_count": null,
      "outputs": []
    },
    {
      "cell_type": "code",
      "source": [],
      "metadata": {
        "id": "XwflAjOooh1d"
      },
      "execution_count": null,
      "outputs": []
    }
  ]
}